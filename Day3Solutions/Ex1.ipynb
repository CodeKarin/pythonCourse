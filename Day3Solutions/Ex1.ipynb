{
 "cells": [
  {
   "cell_type": "markdown",
   "id": "1987e83b",
   "metadata": {},
   "source": [
    "# 1. Numpy exercises"
   ]
  },
  {
   "cell_type": "markdown",
   "id": "bd092a04",
   "metadata": {},
   "source": [
    "a. Create a null vector of size 10 but the fifth value which is 1\n"
   ]
  },
  {
   "cell_type": "code",
   "execution_count": 6,
   "id": "22384e00",
   "metadata": {},
   "outputs": [
    {
     "name": "stdout",
     "output_type": "stream",
     "text": [
      "[0. 0. 0. 0. 1. 0. 0. 0. 0. 0.]\n"
     ]
    }
   ],
   "source": [
    "import numpy as np\n",
    "vec = np.zeros(10)\n",
    "vec[4] = 1\n",
    "print(vec)\n"
   ]
  },
  {
   "cell_type": "markdown",
   "id": "cf819e4e",
   "metadata": {},
   "source": [
    "b. Create a vector with values ranging from 10 to 49"
   ]
  },
  {
   "cell_type": "code",
   "execution_count": 18,
   "id": "d5016b7e",
   "metadata": {},
   "outputs": [
    {
     "data": {
      "text/plain": [
       "array([10.        , 12.05263158, 14.10526316, 16.15789474, 18.21052632,\n",
       "       20.26315789, 22.31578947, 24.36842105, 26.42105263, 28.47368421,\n",
       "       30.52631579, 32.57894737, 34.63157895, 36.68421053, 38.73684211,\n",
       "       40.78947368, 42.84210526, 44.89473684, 46.94736842, 49.        ])"
      ]
     },
     "execution_count": 18,
     "metadata": {},
     "output_type": "execute_result"
    }
   ],
   "source": [
    "vec2 = np.linspace(10, 49, num=20)\n"
   ]
  },
  {
   "cell_type": "markdown",
   "id": "996b1066",
   "metadata": {},
   "source": [
    "c. Reverse a vector (first element becomes last)\n"
   ]
  },
  {
   "cell_type": "code",
   "execution_count": 22,
   "id": "48894f0f",
   "metadata": {},
   "outputs": [
    {
     "data": {
      "text/plain": [
       "array([49.        , 46.94736842, 44.89473684, 42.84210526, 40.78947368,\n",
       "       38.73684211, 36.68421053, 34.63157895, 32.57894737, 30.52631579,\n",
       "       28.47368421, 26.42105263, 24.36842105, 22.31578947, 20.26315789,\n",
       "       18.21052632, 16.15789474, 14.10526316, 12.05263158, 10.        ])"
      ]
     },
     "execution_count": 22,
     "metadata": {},
     "output_type": "execute_result"
    }
   ],
   "source": [
    "vec3 = np.flip(vec2)\n",
    "vec3"
   ]
  },
  {
   "cell_type": "markdown",
   "id": "2fccf5ec",
   "metadata": {},
   "source": [
    "d. Create a 3x3 matrix with values ranging from 0 to 8"
   ]
  },
  {
   "cell_type": "code",
   "execution_count": 80,
   "id": "6b26f07a",
   "metadata": {},
   "outputs": [
    {
     "data": {
      "text/plain": [
       "array([[0, 1, 2],\n",
       "       [3, 4, 5],\n",
       "       [6, 7, 8]])"
      ]
     },
     "execution_count": 80,
     "metadata": {},
     "output_type": "execute_result"
    }
   ],
   "source": [
    "vec3 = np.arange(9).reshape(3,3)\n",
    "vec3"
   ]
  },
  {
   "cell_type": "markdown",
   "id": "973ebbf8",
   "metadata": {},
   "source": [
    "e. Find indices of non-zero elements from [1,2,0,0,4,0]\n"
   ]
  },
  {
   "cell_type": "code",
   "execution_count": 81,
   "id": "382edfbb",
   "metadata": {},
   "outputs": [
    {
     "data": {
      "text/plain": [
       "(array([0, 1, 4], dtype=int64),)"
      ]
     },
     "execution_count": 81,
     "metadata": {},
     "output_type": "execute_result"
    }
   ],
   "source": [
    "vec4 = np.array([1,2,0,0,4,0])\n",
    "np.nonzero(vec4)\n"
   ]
  },
  {
   "cell_type": "markdown",
   "id": "3a42ccf2",
   "metadata": {},
   "source": [
    "f. Create a random vector of size 30 and find the mean value\n"
   ]
  },
  {
   "cell_type": "code",
   "execution_count": 77,
   "id": "9062f934",
   "metadata": {},
   "outputs": [
    {
     "data": {
      "text/plain": [
       "array([0.41560239, 0.86314632, 0.07792052, 0.36941952, 0.60235982,\n",
       "       0.26716577, 0.76153426, 0.51195763, 0.91942297, 0.65842174,\n",
       "       0.72490738, 0.34421465, 0.31585286, 0.33386456, 0.76855091,\n",
       "       0.63822755, 0.62434248, 0.6313119 , 0.79465716, 0.33641236,\n",
       "       0.80465846, 0.91688726, 0.25178466, 0.31576792, 0.8535181 ,\n",
       "       0.96475947, 0.77545198, 0.91734377, 0.35753732, 0.18414919])"
      ]
     },
     "execution_count": 77,
     "metadata": {},
     "output_type": "execute_result"
    }
   ],
   "source": [
    "vec5 = np.random.rand(30)\n",
    "# vec5.shape\n",
    "vec5\n"
   ]
  },
  {
   "cell_type": "code",
   "execution_count": 78,
   "id": "64ff636c",
   "metadata": {},
   "outputs": [
    {
     "data": {
      "text/plain": [
       "0.5767050289484827"
      ]
     },
     "execution_count": 78,
     "metadata": {},
     "output_type": "execute_result"
    }
   ],
   "source": [
    " np.mean(vec5)"
   ]
  },
  {
   "cell_type": "markdown",
   "id": "3f957cfb",
   "metadata": {},
   "source": [
    "g. Create a 2d array with 1 on the border and 0 inside\n"
   ]
  },
  {
   "cell_type": "code",
   "execution_count": 93,
   "id": "9bf189a2",
   "metadata": {},
   "outputs": [
    {
     "data": {
      "text/plain": [
       "array([[1, 1, 1],\n",
       "       [1, 0, 1],\n",
       "       [1, 1, 1]])"
      ]
     },
     "execution_count": 93,
     "metadata": {},
     "output_type": "execute_result"
    }
   ],
   "source": [
    "mat1 = np.ones(9, dtype=int).reshape(3,3)\n",
    "mat1[1:-1,1:-1]=0\n",
    "mat1\n"
   ]
  },
  {
   "cell_type": "markdown",
   "id": "a3b1e612",
   "metadata": {},
   "source": [
    "h. Create a 8x8 matrix and fill it with a checkerboard pattern"
   ]
  },
  {
   "cell_type": "code",
   "execution_count": 231,
   "id": "8d14a1dd",
   "metadata": {},
   "outputs": [
    {
     "data": {
      "text/plain": [
       "array([[1., 0., 1., 0., 1., 0., 1., 0.],\n",
       "       [0., 1., 0., 1., 0., 1., 0., 1.],\n",
       "       [1., 0., 1., 0., 1., 0., 1., 0.],\n",
       "       [0., 1., 0., 1., 0., 1., 0., 1.],\n",
       "       [1., 0., 1., 0., 1., 0., 1., 0.],\n",
       "       [0., 1., 0., 1., 0., 1., 0., 1.],\n",
       "       [1., 0., 1., 0., 1., 0., 1., 0.],\n",
       "       [0., 1., 0., 1., 0., 1., 0., 1.]])"
      ]
     },
     "execution_count": 231,
     "metadata": {},
     "output_type": "execute_result"
    }
   ],
   "source": [
    "#loop functino to ficx diagonals\n",
    "def change_digonal(matrix, s_nr, numb=1):\n",
    "    np.fill_diagonal(matrix[:-s_nr,s_nr:],numb)\n",
    "    np.fill_diagonal(matrix[s_nr:,:-s_nr],numb)\n",
    "\n",
    "#task\n",
    "n = 8\n",
    "cb_mat =np.eye(n)\n",
    "for i in range(len(cb_mat.diagonal())):\n",
    "    if i % 2 == 0:\n",
    "        change_digonal(cb_mat, i, 1)\n",
    "cb_mat\n",
    "   \n",
    "    "
   ]
  },
  {
   "cell_type": "code",
   "execution_count": 284,
   "id": "bd2ddd12",
   "metadata": {},
   "outputs": [
    {
     "data": {
      "text/plain": [
       "array([[0, 1, 0, 1, 0, 1, 0, 1],\n",
       "       [1, 0, 1, 0, 1, 0, 1, 0],\n",
       "       [0, 1, 0, 1, 0, 1, 0, 1],\n",
       "       [1, 0, 1, 0, 1, 0, 1, 0],\n",
       "       [0, 1, 0, 1, 0, 1, 0, 1],\n",
       "       [1, 0, 1, 0, 1, 0, 1, 0],\n",
       "       [0, 1, 0, 1, 0, 1, 0, 1],\n",
       "       [1, 0, 1, 0, 1, 0, 1, 0]])"
      ]
     },
     "execution_count": 284,
     "metadata": {},
     "output_type": "execute_result"
    }
   ],
   "source": [
    "#Other method h.\n",
    "n=8\n",
    "cb_mat2 = np.zeros((n,n), dtype=int)\n",
    "#slicing: x1-first part startpos in matrix, x2- endposition, steps ibetween x1x2\n",
    "cb_mat3[1::2,::2] = 1\n",
    "cb_mat3[::2,1::2] = 1\n",
    "\n",
    "cb_mat3"
   ]
  },
  {
   "cell_type": "markdown",
   "id": "0ca4113b",
   "metadata": {},
   "source": [
    "i. Create a checkerboard 8x8 matrix using the tile function"
   ]
  },
  {
   "cell_type": "code",
   "execution_count": 285,
   "id": "fa016882",
   "metadata": {},
   "outputs": [
    {
     "data": {
      "text/plain": [
       "array([[1, 0, 1, 0, 1, 0, 1, 0],\n",
       "       [0, 1, 0, 1, 0, 1, 0, 1],\n",
       "       [1, 0, 1, 0, 1, 0, 1, 0],\n",
       "       [0, 1, 0, 1, 0, 1, 0, 1],\n",
       "       [1, 0, 1, 0, 1, 0, 1, 0],\n",
       "       [0, 1, 0, 1, 0, 1, 0, 1],\n",
       "       [1, 0, 1, 0, 1, 0, 1, 0],\n",
       "       [0, 1, 0, 1, 0, 1, 0, 1]])"
      ]
     },
     "execution_count": 285,
     "metadata": {},
     "output_type": "execute_result"
    }
   ],
   "source": [
    "n=8\n",
    "pat=[1 ,0]\n",
    "seq =np.tile([pat,np.flip(pat)],(n//2, n//2))\n",
    "seq\n"
   ]
  },
  {
   "cell_type": "markdown",
   "id": "a03de26d",
   "metadata": {},
   "source": [
    "j. Given a 1D array, negate all elements which are between 3 and 8, in place\n"
   ]
  },
  {
   "cell_type": "code",
   "execution_count": 302,
   "id": "d43004d4",
   "metadata": {},
   "outputs": [
    {
     "data": {
      "text/plain": [
       "array([ 0,  1,  2, -3, -4, -5, -6, -7, -8,  9, 10])"
      ]
     },
     "execution_count": 302,
     "metadata": {},
     "output_type": "execute_result"
    }
   ],
   "source": [
    "Z = np.arange(11)\n",
    "Z[3:9] = np.negative(Z[3:9])\n",
    "Z"
   ]
  },
  {
   "cell_type": "markdown",
   "id": "3c31c740",
   "metadata": {},
   "source": [
    "k. Create a random vector of size 10 and sort it\n"
   ]
  },
  {
   "cell_type": "code",
   "execution_count": 309,
   "id": "193f8f5e",
   "metadata": {},
   "outputs": [
    {
     "name": "stdout",
     "output_type": "stream",
     "text": [
      "[0.09579904 0.16767417 0.18877258 0.19226298 0.5268532  0.55231679\n",
      " 0.81161922 0.81526872 0.92591128 0.95454868]\n"
     ]
    }
   ],
   "source": [
    "Z = np.random.random(10)\n",
    "Z.sort()\n",
    "print(Z)\n"
   ]
  },
  {
   "cell_type": "markdown",
   "id": "d639a580",
   "metadata": {},
   "source": [
    "l. Consider two random array A anb B, check if they are equal"
   ]
  },
  {
   "cell_type": "code",
   "execution_count": 338,
   "id": "2b7baf52",
   "metadata": {},
   "outputs": [
    {
     "name": "stdout",
     "output_type": "stream",
     "text": [
      "False\n",
      "[1 1 0 0 0]\n",
      "[0 1 1 1 1]\n"
     ]
    }
   ],
   "source": [
    "A = np.random.randint(0,2,5)\n",
    "B = np.random.randint(0,2,5)\n",
    "eq = np.array_equal(A,B)\n",
    "print(eq)\n",
    "print(A)\n",
    "print(B)\n"
   ]
  },
  {
   "cell_type": "markdown",
   "id": "d86daf65",
   "metadata": {},
   "source": [
    "m. How to convert an integer (32 bits) array into a float (32 bits) in place?"
   ]
  },
  {
   "cell_type": "code",
   "execution_count": 350,
   "id": "00ef91b3",
   "metadata": {},
   "outputs": [
    {
     "name": "stdout",
     "output_type": "stream",
     "text": [
      "int32\n",
      "float32\n"
     ]
    }
   ],
   "source": [
    "Z = np.arange(10, dtype=np.int32)\n",
    "\n",
    "print(Z.dtype)\n",
    "Z = Z.view(dtype=np.float32)\n",
    "print(Z.dtype)"
   ]
  },
  {
   "cell_type": "markdown",
   "id": "f32122f1",
   "metadata": {},
   "source": [
    "n. How to get the diagonal of a dot product?"
   ]
  },
  {
   "cell_type": "code",
   "execution_count": 356,
   "id": "bd6e7c2d",
   "metadata": {},
   "outputs": [
    {
     "name": "stdout",
     "output_type": "stream",
     "text": [
      "[[0 1 2]\n",
      " [3 4 5]\n",
      " [6 7 8]]\n",
      "[[1 2 3]\n",
      " [4 5 6]\n",
      " [7 8 9]]\n",
      "[[ 18  21  24]\n",
      " [ 54  66  78]\n",
      " [ 90 111 132]]\n",
      "[ 18  66 132]\n"
     ]
    }
   ],
   "source": [
    "A = np.arange(9).reshape(3,3)\n",
    "B = A + 1\n",
    "C = np.dot(A,B)\n",
    "D = np.dot(A,B).diagonal()\n",
    "print(A)\n",
    "print(B)\n",
    "print(C)\n",
    "print(D)\n"
   ]
  },
  {
   "cell_type": "markdown",
   "id": "c9b9987a",
   "metadata": {},
   "source": [
    "2. Already done day2 using numpy"
   ]
  },
  {
   "cell_type": "markdown",
   "id": "3e56e338",
   "metadata": {},
   "source": [
    "3. Examples on classes and inheritance in Python"
   ]
  },
  {
   "cell_type": "markdown",
   "id": "287fec5f",
   "metadata": {},
   "source": [
    "a. Create a \"Person\" class which takes firstname and lastname as arguments to the constructor (___init___) and define a method that returns the full name of the person as a combined string.\n",
    "\n",
    "b. Create a \"Student\" class which inherits from the \"Person\" class, takes the subject area as an additional argument to the constructor and define a method that prints the full name and the subject area of the student."
   ]
  },
  {
   "cell_type": "code",
   "execution_count": 364,
   "id": "62d314a2",
   "metadata": {},
   "outputs": [],
   "source": [
    "Solutuions in addidtional files, not in Jupyter                      \n",
    "    \n",
    "    "
   ]
  },
  {
   "cell_type": "code",
   "execution_count": null,
   "id": "a6d6ac7e",
   "metadata": {},
   "outputs": [],
   "source": [
    "In [1]: from classroom import Student\n",
    "In [2]: me = Student('Benedikt', 'Daurer', 'physics') \n",
    "In [3]: me.printNameSubject() \n",
    "Benedikt Daurer, physics"
   ]
  }
 ],
 "metadata": {
  "kernelspec": {
   "display_name": "Python 3",
   "language": "python",
   "name": "python3"
  },
  "language_info": {
   "codemirror_mode": {
    "name": "ipython",
    "version": 3
   },
   "file_extension": ".py",
   "mimetype": "text/x-python",
   "name": "python",
   "nbconvert_exporter": "python",
   "pygments_lexer": "ipython3",
   "version": "3.8.8"
  }
 },
 "nbformat": 4,
 "nbformat_minor": 5
}
