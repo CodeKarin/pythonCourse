{
 "cells": [
  {
   "cell_type": "code",
   "execution_count": 87,
   "id": "3ba37d2d",
   "metadata": {},
   "outputs": [],
   "source": []
  },
  {
   "cell_type": "markdown",
   "id": "c7b00925",
   "metadata": {},
   "source": [
    "# Exercises for Day 5\n",
    "Using SciPy, Scikit-Learn and Pandas\n",
    "\n",
    "## 1. Scipy\n",
    "\n",
    "### Linear Algebra\n",
    "Have a look at the ```scipy.linalg``` [module](https://docs.scipy.org/doc/scipy/reference/linalg.html)\n",
    "\n",
    "\n",
    "\n",
    "\n",
    "#### f. Solve the eigenvalue problem for the matrix A and print the eigenvalues and eigenvectors\n",
    "\n",
    "#### g. Calculate the inverse, determinant of A\n",
    "\n",
    "#### h. Calculate the norm of A with different orders\n",
    "\n",
    "\n",
    "### Statistics\n",
    "Have a look at the ```scipy.stats``` [module](https://docs.scipy.org/doc/scipy/reference/stats.html)\n",
    "\n",
    "#### a. Create a discrete random variable with poissonian distribution and plot its probability mass function (PMF), cummulative distribution function (CDF) and a histogram of 1000 random realizations of the variable\n",
    "\n",
    "#### b. Create a continious random variable with normal distribution and plot its probability mass function (PMF), cummulative distribution function (CDF) and a histogram of 1000 random realizations of the variable\n",
    "\n",
    "#### c. Test if two sets of (independent) random data comes from the same distribution\n",
    "Hint: Have a look at the ```ttest_ind``` function\n",
    "\n",
    "\n",
    "\n",
    "## 2. Pandas\n",
    "For this exercise you need to have Pandas installed (you can try to install it with pip)\n",
    "\n",
    "Tutorials are taken from [https://github.com/guipsamora/pandas_exercises](https://github.com/guipsamora/pandas_exercises)\n",
    "\n",
    "#### a. Download the notebook [food_facts.ipynb](food_facts.ipynb) and learn how to load and display data with Pandas\n",
    "\n",
    "#### b. Download the notebook [army.ipynb](army.ipynb) and try yourself to use Pandas for filtering and sorting of data\n",
    "\n",
    "#### c. Download the notebook [alcohol.ipynb](alcohol.ipynb) and try yourself to use Pandas for grouping of data\n",
    "\n",
    "\n",
    "## Bonus. Publishing of Python code \n",
    "\n",
    "#### a. Take some piece of Python code (e.g. the ```simple_math.py``` module) and make it into a package.\n",
    "A package should include a ```__init__.py``` inside all subdirectories, it should be able to import all the submodules from the top level, functions should have documentation (docstrings) and ideally there is a docs folder with Sphinx documentation. You should also include a small Readme.md file\n",
    "\n",
    "#### b. Add a ```setup.py``` file to your package (following the instructions from the lecture notes)\n",
    "Now you should be able to install your package using pip\n",
    "\n",
    "```\n",
    "pip install . --user\n",
    "```\n",
    "\n",
    "#### c. Upload your package to the TestPyPi repository\n",
    "Follow the instructions from [here](https://packaging.python.org/guides/using-testpypi/)\n",
    "\n",
    "\n"
   ]
  },
  {
   "cell_type": "code",
   "execution_count": 16,
   "id": "8d779d3e",
   "metadata": {},
   "outputs": [],
   "source": [
    "import scipy.linalg as la\n",
    "import numpy as np\n",
    "from numpy.linalg import matrix_rank"
   ]
  },
  {
   "cell_type": "markdown",
   "id": "fdb75aa4",
   "metadata": {},
   "source": [
    "#### a. Define a matrix A\n",
    "```\n",
    "[[1 2 3]\n",
    " [4 5 6]\n",
    " [7 8 9]]\n",
    "```\n",
    "\n",
    "#### b. Define a vector b\n",
    "```\n",
    "[1 2 3]\n",
    "```\n",
    "\n",
    "#### c. Solve the linear system of equations A x = b\n",
    "\n",
    "#### d. Check that your solution is correct by plugging it into the equation\n"
   ]
  },
  {
   "cell_type": "code",
   "execution_count": 5,
   "id": "dc0be435",
   "metadata": {},
   "outputs": [
    {
     "name": "stdout",
     "output_type": "stream",
     "text": [
      "[-0.23333333  0.46666667  0.1       ]\n"
     ]
    },
    {
     "name": "stderr",
     "output_type": "stream",
     "text": [
      "<ipython-input-5-e25c7e0e2258>:5: LinAlgWarning: Ill-conditioned matrix (rcond=2.20282e-18): result may not be accurate.\n",
      "  x=la.solve(A,b)\n"
     ]
    }
   ],
   "source": [
    "#Exercise 1.a-d\n",
    "#A = np.arange(1,10,1).reshape(3,3)\n",
    "A=np.array([[1,2,3],[4,5,6],[7,8,9] ])\n",
    "b = np.array([1,2,3])\n",
    "x=la.solve(A,b)\n",
    "#print(la.det(A)) # negative, no solution no invertible\n",
    "print(x)\n"
   ]
  },
  {
   "cell_type": "code",
   "execution_count": 29,
   "id": "1cfd64a3",
   "metadata": {},
   "outputs": [
    {
     "name": "stdout",
     "output_type": "stream",
     "text": [
      "[-0.23333333  0.46666667  0.1       ]\n",
      "[1. 2. 3.]\n",
      "[1. 2. 3.]\n"
     ]
    }
   ],
   "source": [
    "#try least square\n",
    "x1 = np.linalg.lstsq(A, b, rcond=None)[0]\n",
    "x2 = np.linalg.solve(A,b)\n",
    "print(x)\n",
    "#Check solution \n",
    "print(A@x1)\n",
    "print(A@x2)\n",
    "\n",
    "# Solution ok"
   ]
  },
  {
   "cell_type": "code",
   "execution_count": 20,
   "id": "54d8f8b0",
   "metadata": {},
   "outputs": [
    {
     "name": "stdout",
     "output_type": "stream",
     "text": [
      "[-0.1335896   0.26717919  0.19974374]\n"
     ]
    },
    {
     "name": "stderr",
     "output_type": "stream",
     "text": [
      "<ipython-input-20-c7371aa9ed80>:11: LinAlgWarning: Ill-conditioned matrix (rcond=2.15648e-17): result may not be accurate.\n",
      "  x = la.solve(R, y) # Solve Rx=y\n"
     ]
    }
   ],
   "source": [
    "#For fun try QR functions\n",
    "#Reduced row-echelon form, 1 on diagonal and 0  else, I -> a unique solution. \n",
    "#If no I-> either solution or infinitely many solutions\n",
    "#Check last row of the reduced matrix\n",
    "\n",
    "#Q,R decomposition(singular matrix A)\n",
    "Q, R = la.qr(A) \n",
    "#R_1 = la.inv(R)\n",
    "#Q_t = Q.T\n",
    "y = np.dot(Q.T, b) #  y=Q'.b - matrix multiplication\n",
    "x = la.solve(R, y) # Solve Rx=y\n",
    "print(x)\n"
   ]
  },
  {
   "cell_type": "markdown",
   "id": "16a5a01c",
   "metadata": {},
   "source": [
    "#### e. Repeat steps a-d using a random 3x3 matrix B (instead of the vector b)"
   ]
  },
  {
   "cell_type": "code",
   "execution_count": 44,
   "id": "48ddd136",
   "metadata": {},
   "outputs": [
    {
     "name": "stdout",
     "output_type": "stream",
     "text": [
      "[[62 60  5]\n",
      " [30 16 77]\n",
      " [13 74 76]]\n"
     ]
    }
   ],
   "source": [
    "#### e. Repeat steps a-d using a random 3x3 matrix B (instead of the vector b)\n",
    "\n",
    "#Exercise 1.e\n",
    "#A = np.arange(1,10,1).reshape(3,3)\n",
    "A= np.array([[1,2,3],[4,5,6],[7,8,9] ])\n",
    "B = np.random.randint(100,size=(3,3))\n",
    "print(B)\n"
   ]
  },
  {
   "cell_type": "code",
   "execution_count": 46,
   "id": "5ef01918",
   "metadata": {},
   "outputs": [
    {
     "data": {
      "text/plain": [
       "array([[62, 60,  5],\n",
       "       [30, 16, 77],\n",
       "       [13, 74, 76]])"
      ]
     },
     "execution_count": 46,
     "metadata": {},
     "output_type": "execute_result"
    }
   ],
   "source": [
    "B"
   ]
  },
  {
   "cell_type": "code",
   "execution_count": 57,
   "id": "a7aaafb5",
   "metadata": {},
   "outputs": [
    {
     "data": {
      "text/plain": [
       "array([[ 4.72877961e+16,  3.21557013e+17, -2.30133941e+17],\n",
       "       [-9.45755922e+16, -6.43114027e+17,  4.60267882e+17],\n",
       "       [ 4.72877961e+16,  3.21557013e+17, -2.30133941e+17]])"
      ]
     },
     "execution_count": 57,
     "metadata": {},
     "output_type": "execute_result"
    }
   ],
   "source": [
    "\n",
    "X = np.linalg.solve(A,B)\n",
    "#X = la.linalg.lstsq(A, B, rcond=None)[0]\n",
    "#X = np.linalg.inv(A)@B    \n",
    "#np.allclose(A@np.linalg.solve(A, B), B)   \n",
    "X"
   ]
  },
  {
   "cell_type": "code",
   "execution_count": 59,
   "id": "39f91fa4",
   "metadata": {},
   "outputs": [
    {
     "data": {
      "text/plain": [
       "False"
      ]
     },
     "execution_count": 59,
     "metadata": {},
     "output_type": "execute_result"
    }
   ],
   "source": [
    "#AX = B ?\n",
    "np.allclose(np.dot(A, X), B)\n",
    "#A@X\n"
   ]
  }
 ],
 "metadata": {
  "kernelspec": {
   "display_name": "Python 3",
   "language": "python",
   "name": "python3"
  },
  "language_info": {
   "codemirror_mode": {
    "name": "ipython",
    "version": 3
   },
   "file_extension": ".py",
   "mimetype": "text/x-python",
   "name": "python",
   "nbconvert_exporter": "python",
   "pygments_lexer": "ipython3",
   "version": "3.8.8"
  }
 },
 "nbformat": 4,
 "nbformat_minor": 5
}
